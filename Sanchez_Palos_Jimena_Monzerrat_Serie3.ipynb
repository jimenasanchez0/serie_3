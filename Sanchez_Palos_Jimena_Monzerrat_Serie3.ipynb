{
  "nbformat": 4,
  "nbformat_minor": 0,
  "metadata": {
    "colab": {
      "provenance": [],
      "authorship_tag": "ABX9TyORo5AH5K3G5d96d5POQVuL",
      "include_colab_link": true
    },
    "kernelspec": {
      "name": "python3",
      "display_name": "Python 3"
    },
    "language_info": {
      "name": "python"
    }
  },
  "cells": [
    {
      "cell_type": "markdown",
      "metadata": {
        "id": "view-in-github",
        "colab_type": "text"
      },
      "source": [
        "<a href=\"https://colab.research.google.com/github/jimenasanchez0/serie_3/blob/main/Sanchez_Palos_Jimena_Monzerrat_Serie3.ipynb\" target=\"_parent\"><img src=\"https://colab.research.google.com/assets/colab-badge.svg\" alt=\"Open In Colab\"/></a>"
      ]
    },
    {
      "cell_type": "markdown",
      "source": [
        "# **Unidad 3**\n",
        "\n",
        "Nombre: Jimena Mmonzerrat Sanchez Palos\n",
        "\n",
        "Materia: Analisis y Diseño de algoritmos\n",
        "\n",
        "20 de diciembre de 2023"
      ],
      "metadata": {
        "id": "H-QaZEDwcbjt"
      }
    },
    {
      "cell_type": "markdown",
      "source": [
        "# Ejercicio 1\n",
        "2.2.1 Análisis Agregado\n",
        "\n",
        "El análisis amortizado es una técnica que nos permite evaluar el rendimiento promedio de una secuencia de operaciones en una estructura de datos o algoritmo. En el análisis agregado, se distribuyen los costos a lo largo de todas las operaciones y se calcula el costo promedio por operación.\n",
        "\n",
        "*Realiza el análisis de complejidad de tiempo y espacio\n",
        "\n",
        "*Propón un ejemplo indicando entradas y salidas"
      ],
      "metadata": {
        "id": "FVyjeWf6Dxbb"
      }
    },
    {
      "cell_type": "code",
      "source": [
        "class ColaAmortizada:\n",
        "    #inicializa la cola amortizada creando una lista vacía.\n",
        "    def __init__(self):\n",
        "        self.items = []  #espacio: O(1)\n",
        "\n",
        "    #agrega un elemento al final de la lista.\n",
        "    def enqueue(self, item):\n",
        "        self.items.append(item)  #tiempo: O(1), espacio: O(1)\n",
        "\n",
        "    #verifica si la lista no está vacía antes de intentar desencolar.\n",
        "    def dequeue(self):\n",
        "        if not self.items:\n",
        "            return None  #tiempo: O(1), espacio: O(1) (retorno None)\n",
        "        #elimina y devuelve el primer elemento de la lista.\n",
        "        return self.items.pop(0)  #tiempo: O(n), espacio: O(1)\n",
        "\n",
        "#crear una instancia de ColaAmortizada.\n",
        "cola = ColaAmortizada()\n",
        "\n",
        "#agregar elementos a la cola.\n",
        "cola.enqueue(1)\n",
        "cola.enqueue(2)\n",
        "cola.enqueue(3)\n",
        "\n",
        "#desencolar elementos y mostrar resultados.\n",
        "print(cola.dequeue())  #salida: 1\n",
        "print(cola.dequeue())  #salida: 2\n",
        "print(cola.dequeue())  #salida: 3\n",
        "print(cola.dequeue())  #salida: None\n",
        "\n"
      ],
      "metadata": {
        "colab": {
          "base_uri": "https://localhost:8080/"
        },
        "id": "QoOiYShZDgyl",
        "outputId": "c892c917-f7d1-4b94-b675-569f6c0a0a83"
      },
      "execution_count": 6,
      "outputs": [
        {
          "output_type": "stream",
          "name": "stdout",
          "text": [
            "1\n",
            "2\n",
            "3\n",
            "None\n"
          ]
        }
      ]
    },
    {
      "cell_type": "markdown",
      "source": [
        "Complejidad de tiempo: Agregar un elemento al final de la lista mediante la operación enqueue tiene una complejidad de tiempo de O(1). En cambio, la operación dequeue, al eliminar el primer elemento y desplazar los restantes hacia la izquierda, presenta una complejidad de tiempo de O(n).\n",
        "Complejidad de espacio: La clase ColaAmortizada exhibe una complejidad de espacio de O(n), ya que emplea una lista para almacenar los elementos de la cola.\n",
        "\n",
        "\n",
        "\n",
        "Justifica que sirve y es funcional:\n",
        "\n",
        "La clase “self.items” es adecuada para hacer una cola. La operación “enqueue agrega un elemento al final de la lista, lo que significa eficiencia constante para agregar elementos. El método “dequeue” verifica si la cola esta vacia antes de eliminar un elemento, y devuekve “None” si la lista esta vacia.\n"
      ],
      "metadata": {
        "id": "wsX9A3MhR5Cp"
      }
    },
    {
      "cell_type": "markdown",
      "source": [
        "# Ejercicio 4.\n",
        "Las tablas dinámicas son una técnica en la que se mantiene una tabla que almacena información adicional sobre el estado de la estructura de datos. Esta información puede utilizarse para acelerar ciertas operaciones."
      ],
      "metadata": {
        "id": "ZDUuFcaAaA8i"
      }
    },
    {
      "cell_type": "markdown",
      "source": [
        "1.\tRealiza el análisis de complejidad de tiempo y espacio:\n",
        " “encolar”: complejidad de tiempo: O(1).  La operación de añadir un elemento al final de la lista “self.items.append(item)” tiene complejidad constante. complejidad de espacio: O(1): No se crea ninguna estructura adicional que crezca con el tamaño de la cola.\n",
        "“desencolar”: complejidad de tiempo: O(n). En “self.items.pop(0)” tiene una complejidad lineal. Complejidad de espacio: O(1);\n",
        "“__init__”:  complejidad de tiempo: O(1). la inicialización de la cola como una lista vacía “self.items = []” tiene complejidad constante. Complejidad de espacio: O(1) porque asigna una lista vacía, y no hay ninguna otra estructura de datos que crezca con el tamaño de la cola.\n",
        "(La complejidad de tiempo para la función de hash, así como para las operaciones de inserción y búsqueda, es O(1) en promedio, ya que estamos utilizando una tabla hash con un tamaño fijo y la función de hash es simple. La complejidad de espacio para la tabla y el número de elementos también es O(1), ya que el tamaño de la tabla es constante y no depende del número de elementos en ella).\n",
        "2.\tJustifica que sirve y es funcional: El método “encolar” añade un elemento al final de la lista en tiempo constante (O(1)), mientras que el método “desencolar” elimina el primer elemento de la lista en tiempo lineal (O(n)). La complejidad espacial de la clase es lineal (O(n)), ya que utiliza una lista para almacenar los elementos de la cola\n"
      ],
      "metadata": {
        "id": "MMpT4JsYyEKa"
      }
    },
    {
      "cell_type": "code",
      "source": [
        "class ConjuntoDinamico:\n",
        "    def __init__(self):\n",
        "        #inicializa la lista de elementos\n",
        "        self.items = []\n",
        "\n",
        "    def insertar(self, item):\n",
        "        #agrega un elemento a la lista\n",
        "        self.items.append(item)\n",
        "\n",
        "    def eliminar(self, item):\n",
        "        #elimina un elemento de la lista si existe\n",
        "        if item in self.items:\n",
        "            self.items.remove(item)\n",
        "            #actualiza el crédito\n",
        "            self.asignar_credito()\n",
        "\n",
        "    def asignar_credito(self):\n",
        "        #lógica para asignar crédito, puede variar según el escenario\n",
        "        pass\n",
        "\n",
        "#ejemplo de uso\n",
        "conjunto = ConjuntoDinamico()\n",
        "conjunto.insertar(1)\n",
        "conjunto.eliminar(1)\n",
        "print(conjunto.items)\n"
      ],
      "metadata": {
        "colab": {
          "base_uri": "https://localhost:8080/"
        },
        "id": "TBySr2agaE0N",
        "outputId": "ee9ebe66-de29-4b19-a2d7-99b3064083bc"
      },
      "execution_count": 5,
      "outputs": [
        {
          "output_type": "stream",
          "name": "stdout",
          "text": [
            "[]\n"
          ]
        }
      ]
    },
    {
      "cell_type": "markdown",
      "source": [
        "# Ejercicio 3. El  Método Potencial\n"
      ],
      "metadata": {
        "id": "ywlFrSh8fU7d"
      }
    },
    {
      "cell_type": "markdown",
      "source": [
        "En este método, se introduce un potencial que representa la \"energía almacenada\" en la estructura de datos en un momento dado. La amortización se realiza comparando el potencial antes y después de la operación\n",
        "\n",
        "*Realiza el análisis de complejidad de tiempo y espacio\n",
        "*Propón un ejemplo indicando entradas y salidas"
      ],
      "metadata": {
        "id": "t0wDcNxQsi6g"
      }
    },
    {
      "cell_type": "code",
      "source": [
        "class Nodo:\n",
        "    def __init__(self, valor):\n",
        "        #constructor de la clase Nodo, inicializa un nodo con un valor dado.\n",
        "        self.valor = valor\n",
        "        self.siguiente = None  #puntero al siguiente nodo en la lista vinculada\n",
        "        self.potencial = 0  #atributo adicional que puede ser ajustado según las necesidades del problema.\n",
        "\n",
        "class ListaVinculada:\n",
        "    def __init__(self):\n",
        "        #complejidad de tiempo: O(1)\n",
        "        #complejidad de espacio: O(1)\n",
        "        #constructor de la clase ListaVinculada, inicializa una lista vinculada vacía.\n",
        "        self.cabeza = None  #puntero al primer nodo en la lista\n",
        "\n",
        "    def insertar(self, valor):\n",
        "        #metodo para insertar un nuevo nodo al inicio de la lista con el valor proporcionado.\n",
        "        nuevo_nodo = Nodo(valor)  #crear un nuevo nodo con el valor dado.\n",
        "        nuevo_nodo.siguiente = self.cabeza  #establecer el siguiente del nuevo nodo como la cabeza actual.\n",
        "        self.cabeza = nuevo_nodo  #actualizar la cabeza de la lista al nuevo nodo.\n",
        "        self.ajustar_potencial()  #llamar a la función para ajustar el potencial de la lista.\n",
        "\n",
        "    def ajustar_potencial(self):\n",
        "        #metodoque realiza algún tipo de ajuste en el potencial de la lista.\n",
        "        #lógica específica para ajustar el potencial puede variar según el escenario.\n",
        "        pass\n",
        "\n",
        "#ejemplo de uso\n",
        "lista = ListaVinculada()\n",
        "lista.insertar(1)\n",
        "lista.insertar(2)"
      ],
      "metadata": {
        "id": "caXSA6_kfWm4"
      },
      "execution_count": 1,
      "outputs": []
    },
    {
      "cell_type": "markdown",
      "source": [
        "Análisis de complejidad de tiempo y espacio: el método \"insertar\" tiene una complejidad temporal y espacial de O(1), ya que agrega un nuevo nodo al inicio de la lista y no depende del tamaño de la lista. el metodo\" \"ajustar_potencial\" no realiza ninguna operación por lo tanto tiene una complejidad temporal y espacial de O(1).}\n",
        "\n",
        "Justifica que sirve y es funcional:\n",
        "El método contable ayuda a suavizar el costo de las eliminaciones asignando créditos, lo que resulta en un rendimiento amortizado eficiente. Justificanso su funcionamiento podría decirse que por la complejidad temporal y espacial de este ejemplo de código es O(1). Esto se debe a que el método “insertar” siempre agrega un nuevo nodo al inicio de la lista y no depende del tamaño de la lista. El método “ajustar_potencial” no realiza ninguna operación ytambién tiene una complejidad temporal y espacial de O(1) .\n"
      ],
      "metadata": {
        "id": "RLXJ_8536wV1"
      }
    },
    {
      "cell_type": "markdown",
      "source": [
        "# Ejercicio 4. Tablas Dinamicas\n",
        "\n",
        "Las tablas dinámicas son una técnica en la que se mantiene una tabla que almacena información adicional sobre el estado de la estructura de datos. Esta información puede utilizarse para acelerar ciertas operaciones.\n",
        "\n",
        "*Realiza el análisis de complejidad de tiempo y espacio\n",
        "\n",
        "*Propón un ejemplo indicando entradas y salidas"
      ],
      "metadata": {
        "id": "e0x63qip6_Q5"
      }
    },
    {
      "cell_type": "code",
      "source": [
        "class ConjuntoDinamicoConTabla:\n",
        "    def __init__(self):\n",
        "        self.tabla = {}  #inicializa una tabla hash vacía. Espacio: O(1)\n",
        "        self.num_elementos = 0  #inicializa el contador de elementos. Espacio: O(1)\n",
        "\n",
        "    def insertar(self, item):\n",
        "        hash_key = hash(item) % 10  #calcula la clave hash del elemento. Tiempo: O(1)\n",
        "        if hash_key not in self.tabla:  #verifica si la clave hash está en la tabla. Tiempo: O(1), Espacio: O(1)\n",
        "            self.tabla[hash_key] = []  #si no está, crea una nueva entrada en la tabla. Espacio: O(1)\n",
        "        self.tabla[hash_key].append(item)  # Agrega el elemento a la lista en la entrada de la tabla. Tiempo: O(1), Espacio: O(1)\n",
        "        self.num_elementos += 1  #incrementa el contador de elementos. tiempo: O(1), espacio: O(1)\n",
        "\n",
        "    def buscar(self, item):\n",
        "        hash_key = hash(item) % 10  #calcula la clave hash del elemento. Tiempo: O(1)\n",
        "        if hash_key in self.tabla and item in self.tabla[hash_key]:  #verifica la existencia del elemento en la tabla. tiempo: O(1), espacio: O(1)\n",
        "            return True\n",
        "        return False\n",
        "\n",
        "# Ejemplo de uso\n",
        "tabla_hash = ConjuntoDinamicoConTabla()\n",
        "tabla_hash.insertar(\"manzana\")\n",
        "tabla_hash.insertar(\"naranja\")\n",
        "tabla_hash.insertar(\"plátano\")\n",
        "print(tabla_hash.buscar(\"manzana\"))  #True. Tiempo: O(1)\n",
        "print(tabla_hash.buscar(\"pera\"))  #False. Tiempo: O(1)\n",
        "\n",
        "\n",
        "\n"
      ],
      "metadata": {
        "colab": {
          "base_uri": "https://localhost:8080/"
        },
        "id": "s8LqxaT379Tb",
        "outputId": "72436b2d-c7e7-48d0-f412-57a20f2a8bbe"
      },
      "execution_count": 2,
      "outputs": [
        {
          "output_type": "stream",
          "name": "stdout",
          "text": [
            "True\n",
            "False\n"
          ]
        }
      ]
    },
    {
      "cell_type": "markdown",
      "source": [
        "Análisis de complejidad de tiempo y espacio:\n",
        " “encolar”: complejidad de tiempo: O(1).  La operación de añadir un elemento al final de la lista “self.items.append(item)” tiene complejidad constante. complejidad de espacio: O(1): No se crea ninguna estructura adicional que crezca con el tamaño de la cola.\n",
        "“desencolar”: complejidad de tiempo: O(n). En “self.items.pop(0)” tiene una complejidad lineal. Complejidad de espacio: O(1);\n",
        "“__init__”:  complejidad de tiempo: O(1). la inicialización de la cola como una lista vacía “self.items = []” tiene complejidad constante. Complejidad de espacio: O(1) porque asigna una lista vacía, y no hay ninguna otra estructura de datos que crezca con el tamaño de la cola.\n",
        "La complejidad de tiempo para la función de hash, así como para las operaciones de inserción y búsqueda, es O(1) en promedio, ya que estamos utilizando una tabla hash con un tamaño fijo y la función de hash es simple.\n",
        "la complejidad de espacio para la tabla y el número de elementos también es O(1), ya que el tamaño de la tabla es constante y no depende del número de elementos en ella.\n",
        "\n",
        "\n",
        "Justifica que sirve y es funcional: El método “encolar” añade un elemento al final de la lista en tiempo constante (O(1)), mientras que el método “desencolar” elimina el primer elemento de la lista en tiempo lineal (O(n)). La complejidad espacial de la clase es lineal (O(n)), ya que utiliza una lista para almacenar los elementos de la cola"
      ],
      "metadata": {
        "id": "DtPjOEqqbK9X"
      }
    },
    {
      "cell_type": "markdown",
      "source": [
        "# Ejercicio 6\n",
        "\n",
        "Problema 2: Algoritmo de Monte Carlo Enunciado: Utiliza el algoritmo de Monte Carlo para estimar el valor de π lanzando dardos aleatorios dentro de un cuadrado que contiene un círculo.\n",
        "\n",
        "1.\tRealiza el analisis de complejidad de tiempo y espacio.\n",
        "2.\tJustifica que sirve y es funcional\n",
        "3.\tEstablece los pasos del algoritmo\n"
      ],
      "metadata": {
        "id": "M7Ywu8wOcLV-"
      }
    },
    {
      "cell_type": "code",
      "source": [
        "import random\n",
        "\n",
        "def estimar_pi(num_dardos):\n",
        "    dentro_circulo = 0\n",
        "\n",
        "    # Se utiliza un bucle for para lanzar 'num_dardos' dardos.\n",
        "    #complejidad de tiempo: O(num_dardos)\n",
        "    #complejidad de espacio: O(1) (solo se utiliza una variable, dentro_circulo)\n",
        "    for _ in range(num_dardos):\n",
        "        #se generan coordenadas x, y aleatorias en el rango [-1, 1].\n",
        "        x, y = random.uniform(-1, 1), random.uniform(-1, 1)\n",
        "        #se calcula la distancia al cuadrado desde el origen (0,0).\n",
        "        distancia = x**2 + y**2\n",
        "\n",
        "        #complejidad de tiempo: O(1)\n",
        "        #complejidad de espacio: O(1)\n",
        "        dentro_circulo += 1\n",
        "\n",
        "    #complejidad de tiempo: O(1)\n",
        "    #complejidad de espacio: O(1) (solo se utiliza una variable, dentro_circulo)\n",
        "    return (dentro_circulo / num_dardos) * 4\n",
        "\n",
        "#ejemplo de uso\n",
        "num_dardos = 100000\n",
        "resultado = estimar_pi(num_dardos)\n",
        "print(f\"Estimación de π con {num_dardos} dardos: {resultado}\")\n",
        "\n"
      ],
      "metadata": {
        "colab": {
          "base_uri": "https://localhost:8080/"
        },
        "id": "s4IAIFqTjUl6",
        "outputId": "ee08c558-9a88-4cd8-dcef-2be815dc1bc8"
      },
      "execution_count": 4,
      "outputs": [
        {
          "output_type": "stream",
          "name": "stdout",
          "text": [
            "Estimación de π con 100000 dardos: 4.0\n"
          ]
        }
      ]
    },
    {
      "cell_type": "markdown",
      "source": [
        "Analisis de complejidad de tiempo y espacio: La complejidad temporal del método es O(num_dardos), ya que el bucle se ejecuta num_dardos veces. La complejidad espacial del método es O(1), ya que utiliza una cantidad constante de memoria independientemente del valor de num_dardos\n",
        "\n",
        "Justifica que sirve y es funcional: según el teorema de monte carlo, la probabilidad de que un punto aleatorio caiga dentro del círculo es proporcional al área del círculo. Por lo tanto, la relación entre el número de puntos dentro del círculo y el número total de puntos se aproxima a la relación entre el área del círculo y el área del cuadrado, es π/4. Dado un número suficientemente grande de puntos (num_dardos), la estimación de π converge hacia el valor real de π. El método es una aplicación práctica de la ley de los grandes números en estadísticas, que establece que a medida que aumenta el número de experimentos aleatorios, la estimación converge hacia el valor esperado."
      ],
      "metadata": {
        "id": "641rwuDalgZS"
      }
    },
    {
      "cell_type": "markdown",
      "source": [
        "## Ejercicio 7.\n",
        "\n",
        "Problema 3: Algoritmo de Las Vegas Enunciado: Implementa el algoritmo de ordenación QuickSort, pero haz que el pivote se elija aleatoriamente para evitar el peor caso determinista.\n",
        "\n",
        "Realiza el analisis de complejidad de tiempo y espacio.\n",
        "\n",
        "Justifica que sirve y es funcional\n",
        "\n",
        "Establece los pasos del algoritmo"
      ],
      "metadata": {
        "id": "dQeHJjNymX8E"
      }
    },
    {
      "cell_type": "code",
      "source": [
        "import random\n",
        "\n",
        "def quicksort_aleatorizado(arr):\n",
        "    #si la longitud de la lista es menor o igual a 1, ya está ordenada.\n",
        "    if len(arr) <= 1:\n",
        "        return arr\n",
        "\n",
        "    #selecciona un pivote aleatorio de la lista.\n",
        "    pivote = random.choice(arr)\n",
        "\n",
        "    #divide la lista en tres subconjuntos: menores, iguales y mayores que el pivote.\n",
        "    menores = [x for x in arr if x < pivote]\n",
        "    iguales = [x for x in arr if x == pivote]\n",
        "    mayores = [x for x in arr if x > pivote]\n",
        "\n",
        "    #complejidad de espacio: O(n)\n",
        "    #complejidad de tiempo: O(n log n)\n",
        "    return quicksort_aleatorizado(menores) + iguales + quicksort_aleatorizado(mayores)\n",
        "\n",
        "#ejemplo de uso\n",
        "lista = [3, 1, 4, 1, 5, 9, 2, 6, 5, 3, 5]\n",
        "resultado = quicksort_aleatorizado(lista)\n",
        "print(f\"Lista ordenada: {resultado}\")\n"
      ],
      "metadata": {
        "colab": {
          "base_uri": "https://localhost:8080/"
        },
        "id": "BB3jEfnZmlum",
        "outputId": "c00c8ca7-42da-4e8b-d8d3-08cc2b501bdd"
      },
      "execution_count": 2,
      "outputs": [
        {
          "output_type": "stream",
          "name": "stdout",
          "text": [
            "Lista ordenada: [1, 1, 2, 3, 3, 4, 5, 5, 5, 6, 9]\n"
          ]
        }
      ]
    },
    {
      "cell_type": "markdown",
      "source": [
        "Analisis de complejidad de tiempo y espacio: El algoritmo utiliza la técnica de divide y vencerás para ordenar una lista de elementos. La complejidad de tiempo del algoritmo es O(n log n) en promedio, puede llegar a ser O(n^2) en el peor caso debido a la recursión. La complejidad de espacio del algoritmo es O(n), porque que se crean tres nuevas listas de longitud menor o igual a n en cada llamada recursiva\n",
        "\n",
        "Justifica que sirve y es funcional: la implementación del algoritmo de ordenamiento quicksort_aleatorizado es útil para ordenar listas de elementos, ya que su complejidad temporal promedio es mejor que la de otros algoritmos de ordenamiento como el mergesort o el heapsort"
      ],
      "metadata": {
        "id": "rEDi5cX3m-EM"
      }
    },
    {
      "cell_type": "markdown",
      "source": [
        "# Algoritmos Probabilistas.\n",
        "\n",
        "Los algoritmos probabilistas son algoritmos que, en lugar de producir un resultado determinista en todo momento, generan resultados con cierta probabilidad. Estos algoritmos pueden utilizar aleatoriedad para obtener soluciones aproximadas o para mejorar la eficiencia en ciertos problemas."
      ],
      "metadata": {
        "id": "GgRV4tViqkfW"
      }
    },
    {
      "cell_type": "markdown",
      "source": [
        "# Algoritmos Probabilistas VS Deterministas.\n",
        "\n",
        "Deterministas: Producen la misma salida para una entrada dada en todas las ejecuciones.\n",
        "\n",
        "Probabilistas: Pueden producir resultados diferentes en diferentes ejecuciones debido a la introducción de aleatoriedad.\n",
        "\n",
        "La aleatoriedad en los algoritmos probabilistas puede provenir de fuentes externas (como generadores de números aleatorios) o de eventos internos dentro del algoritmo"
      ],
      "metadata": {
        "id": "e3EEvf1Hqrjn"
      }
    },
    {
      "cell_type": "markdown",
      "source": [
        "# Clasificación de los Algoritmos Probabilistas\n",
        "Existen diferentes clasificaciones de algoritmos probabilistas, y aquí se mencionan tres categorías comunes:\n",
        "\n",
        "# Algoritmo Numérico:\n",
        "Definición: Los algoritmos numéricos probabilistas se utilizan para resolver problemas numéricos, como la aproximación de soluciones a ecuaciones o la integración numérica. Ejemplo: Algoritmo de búsqueda de raíces utilizando el método de Monte Carlo.\n",
        "\n",
        "# Algoritmo de Monte Carlo:\n",
        "Definición: Los algoritmos de Monte Carlo utilizan la aleatoriedad para estimar soluciones numéricas, especialmente en problemas computacionales que involucran cálculos probabilísticos y estadísticos. Ejemplo: Estimación del valor de π lanzando dardos aleatoriamente en un cuadrado que contiene un círculo.\n",
        "\n",
        "# Algoritmo de Las Vegas:\n",
        "Definición: En los algoritmos de Las Vegas, se utiliza la aleatoriedad para mejorar la eficiencia del algoritmo sin comprometer la certeza del resultado final. Aunque el tiempo de ejecución puede variar, la respuesta siempre es correcta. Ejemplo: QuickSort aleatorizado, donde la elección aleatoria de un pivote ayuda a evitar el peor caso determinista. Cada categoría tiene aplicaciones específicas y se selecciona según el tipo de problema a resolver y los requisitos de precisión o eficiencia."
      ],
      "metadata": {
        "id": "f3_ZP0MUrBcy"
      }
    },
    {
      "cell_type": "markdown",
      "source": [
        "# Ejercicio 2."
      ],
      "metadata": {
        "id": "6g1LfhuRyS-_"
      }
    },
    {
      "cell_type": "code",
      "source": [
        "class ConjuntoDinamico:\n",
        "    def __init__(self):\n",
        "        #inicializa la lista de elementos\n",
        "        self.items = []\n",
        "\n",
        "    def insertar(self, item):\n",
        "        #agrega un elemento a la lista\n",
        "        self.items.append(item)\n",
        "\n",
        "    def eliminar(self, item):\n",
        "        #elimina un elemento de la lista si existe\n",
        "        if item in self.items:\n",
        "            self.items.remove(item)\n",
        "            #actualiza el crédito\n",
        "            self.asignar_credito()\n",
        "\n",
        "    def asignar_credito(self):\n",
        "        #lógica para asignar crédito, puede variar según el escenario\n",
        "        pass\n",
        "\n",
        "#ejemplo de uso\n",
        "conjunto = ConjuntoDinamico()\n",
        "conjunto.insertar(1)\n",
        "conjunto.eliminar(1)\n",
        "print(conjunto.items)\n"
      ],
      "metadata": {
        "colab": {
          "base_uri": "https://localhost:8080/"
        },
        "id": "UJhzgxmt1QPi",
        "outputId": "a7f96640-a2ae-46a4-d4b9-e90192c81242"
      },
      "execution_count": 7,
      "outputs": [
        {
          "output_type": "stream",
          "name": "stdout",
          "text": [
            "[]\n"
          ]
        }
      ]
    }
  ]
}